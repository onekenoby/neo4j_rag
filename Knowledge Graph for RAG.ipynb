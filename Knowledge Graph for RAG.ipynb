{
  "nbformat": 4,
  "nbformat_minor": 0,
  "metadata": {
    "colab": {
      "provenance": []
    },
    "kernelspec": {
      "name": "python3",
      "display_name": "Python 3"
    },
    "language_info": {
      "name": "python"
    }
  },
  "cells": [
    {
      "cell_type": "markdown",
      "source": [
        "###### **Step 1: Install Required Libraries**"
      ],
      "metadata": {
        "id": "fNSwo0-u2sM6"
      }
    },
    {
      "cell_type": "code",
      "source": [
        "!pip install neo4j openai==0.28"
      ],
      "metadata": {
        "colab": {
          "base_uri": "https://localhost:8080/"
        },
        "id": "IMdo8sm_2xdE",
        "outputId": "f628b6d0-e701-414e-cf54-646fa916befa"
      },
      "execution_count": 1,
      "outputs": [
        {
          "output_type": "stream",
          "name": "stdout",
          "text": [
            "Collecting neo4j\n",
            "  Downloading neo4j-5.26.0-py3-none-any.whl.metadata (5.9 kB)\n",
            "Collecting openai==0.28\n",
            "  Downloading openai-0.28.0-py3-none-any.whl.metadata (13 kB)\n",
            "Requirement already satisfied: requests>=2.20 in /usr/local/lib/python3.10/dist-packages (from openai==0.28) (2.32.3)\n",
            "Requirement already satisfied: tqdm in /usr/local/lib/python3.10/dist-packages (from openai==0.28) (4.66.6)\n",
            "Requirement already satisfied: aiohttp in /usr/local/lib/python3.10/dist-packages (from openai==0.28) (3.10.10)\n",
            "Requirement already satisfied: pytz in /usr/local/lib/python3.10/dist-packages (from neo4j) (2024.2)\n",
            "Requirement already satisfied: charset-normalizer<4,>=2 in /usr/local/lib/python3.10/dist-packages (from requests>=2.20->openai==0.28) (3.4.0)\n",
            "Requirement already satisfied: idna<4,>=2.5 in /usr/local/lib/python3.10/dist-packages (from requests>=2.20->openai==0.28) (3.10)\n",
            "Requirement already satisfied: urllib3<3,>=1.21.1 in /usr/local/lib/python3.10/dist-packages (from requests>=2.20->openai==0.28) (2.2.3)\n",
            "Requirement already satisfied: certifi>=2017.4.17 in /usr/local/lib/python3.10/dist-packages (from requests>=2.20->openai==0.28) (2024.8.30)\n",
            "Requirement already satisfied: aiohappyeyeballs>=2.3.0 in /usr/local/lib/python3.10/dist-packages (from aiohttp->openai==0.28) (2.4.3)\n",
            "Requirement already satisfied: aiosignal>=1.1.2 in /usr/local/lib/python3.10/dist-packages (from aiohttp->openai==0.28) (1.3.1)\n",
            "Requirement already satisfied: attrs>=17.3.0 in /usr/local/lib/python3.10/dist-packages (from aiohttp->openai==0.28) (24.2.0)\n",
            "Requirement already satisfied: frozenlist>=1.1.1 in /usr/local/lib/python3.10/dist-packages (from aiohttp->openai==0.28) (1.5.0)\n",
            "Requirement already satisfied: multidict<7.0,>=4.5 in /usr/local/lib/python3.10/dist-packages (from aiohttp->openai==0.28) (6.1.0)\n",
            "Requirement already satisfied: yarl<2.0,>=1.12.0 in /usr/local/lib/python3.10/dist-packages (from aiohttp->openai==0.28) (1.17.1)\n",
            "Requirement already satisfied: async-timeout<5.0,>=4.0 in /usr/local/lib/python3.10/dist-packages (from aiohttp->openai==0.28) (4.0.3)\n",
            "Requirement already satisfied: typing-extensions>=4.1.0 in /usr/local/lib/python3.10/dist-packages (from multidict<7.0,>=4.5->aiohttp->openai==0.28) (4.12.2)\n",
            "Requirement already satisfied: propcache>=0.2.0 in /usr/local/lib/python3.10/dist-packages (from yarl<2.0,>=1.12.0->aiohttp->openai==0.28) (0.2.0)\n",
            "Downloading openai-0.28.0-py3-none-any.whl (76 kB)\n",
            "\u001b[2K   \u001b[90m━━━━━━━━━━━━━━━━━━━━━━━━━━━━━━━━━━━━━━━━\u001b[0m \u001b[32m76.5/76.5 kB\u001b[0m \u001b[31m3.5 MB/s\u001b[0m eta \u001b[36m0:00:00\u001b[0m\n",
            "\u001b[?25hDownloading neo4j-5.26.0-py3-none-any.whl (302 kB)\n",
            "\u001b[2K   \u001b[90m━━━━━━━━━━━━━━━━━━━━━━━━━━━━━━━━━━━━━━━━\u001b[0m \u001b[32m302.0/302.0 kB\u001b[0m \u001b[31m5.9 MB/s\u001b[0m eta \u001b[36m0:00:00\u001b[0m\n",
            "\u001b[?25hInstalling collected packages: neo4j, openai\n",
            "  Attempting uninstall: openai\n",
            "    Found existing installation: openai 1.54.3\n",
            "    Uninstalling openai-1.54.3:\n",
            "      Successfully uninstalled openai-1.54.3\n",
            "Successfully installed neo4j-5.26.0 openai-0.28.0\n"
          ]
        }
      ]
    },
    {
      "cell_type": "markdown",
      "source": [
        "\n",
        " ###### **Step 2: Set Up Neo4j Connection and OpenAI API Key**"
      ],
      "metadata": {
        "id": "j9wbGZ7_3Dey"
      }
    },
    {
      "cell_type": "code",
      "source": [
        "import os\n",
        "from neo4j import GraphDatabase\n",
        "import openai"
      ],
      "metadata": {
        "id": "qVAHikzX2FTs"
      },
      "execution_count": 2,
      "outputs": []
    },
    {
      "cell_type": "code",
      "source": [
        "# Set OpenAI API key as an environment variable\n",
        "os.environ[\"OPENAI_API_KEY\"] = \"skproj-0JeTABUHK05VKjbo09iTHhyKQCem6e2eggp8GBP-pdZNGmOM-1BSVRDsItfGVxCcf6IJet3SfTT3BlbkFJqnVduE0c26aXpOM8_jqCF73uZoPFtzmK5R2OEUOqt4MsIsdwKDgm_ymZCpbKknfPUHyZJ-elAA\"\n",
        "openai.api_key = os.getenv(\"OPENAI_API_KEY\")"
      ],
      "metadata": {
        "id": "gKXj8OEZ2R6v"
      },
      "execution_count": 3,
      "outputs": []
    },
    {
      "cell_type": "code",
      "source": [
        "# Neo4j connection details (use your Neo4j Sandbox URI and credentials)\n",
        "NEO4J_URI = \"bolt://44.203.246.205:7687\"\n",
        "NEO4J_USER = \"neo4j\"\n",
        "NEO4J_PASSWORD = \"similarity-paths-interests\""
      ],
      "metadata": {
        "id": "fRwnxvHp2T_9"
      },
      "execution_count": 4,
      "outputs": []
    },
    {
      "cell_type": "code",
      "source": [
        "# Initialize the Neo4j driver\n",
        "driver = GraphDatabase.driver(NEO4J_URI, auth=(NEO4J_USER, NEO4J_PASSWORD))"
      ],
      "metadata": {
        "id": "C5JnoQYq2WwV"
      },
      "execution_count": 5,
      "outputs": []
    },
    {
      "cell_type": "markdown",
      "source": [
        "###### **Step 3: Functions to Convert User Query to Cypher, Query Neo4j, and Generate Response**"
      ],
      "metadata": {
        "id": "C_Za96jT3RpE"
      }
    },
    {
      "cell_type": "code",
      "source": [
        "# Convert the user query to Cypher using GPT-4\n",
        "def convert_to_cypher(user_query):\n",
        "    prompt = f\"Convert the following user query into a Cypher query to retrieve relevant movie data from Neo4j graph:\\n\\nUser Query: {user_query}\\n\\nCypher Query:\"\n",
        "\n",
        "    response = openai.ChatCompletion.create(\n",
        "        model=\"gpt-4\", # Changed to gpt-4\n",
        "        messages=[{\"role\": \"user\", \"content\": prompt}],\n",
        "        max_tokens=100,\n",
        "        temperature=0.7\n",
        "    )\n",
        "\n",
        "\n",
        "    cypher_query = response.choices[0].message['content'].strip()\n",
        "    # Extract the actual Cypher query by splitting on the first colon and taking the second part\n",
        "    cypher_query = cypher_query.split(\":\", 1)[1].strip() # Added this line to extract only the query part\n",
        "\n",
        "    # Check if the query starts with a valid Cypher clause and add MATCH if needed\n",
        "    if not cypher_query.startswith((\"MATCH\", \"OPTIONAL MATCH\", \"MERGE\")):\n",
        "        cypher_query = \"MATCH (a:\" + cypher_query  # Prepend 'MATCH (a:' to the query\n",
        "\n",
        "    return cypher_query"
      ],
      "metadata": {
        "id": "9BQYU11U2Y37"
      },
      "execution_count": 22,
      "outputs": []
    },
    {
      "cell_type": "code",
      "source": [
        "# Query Neo4j using the generated Cypher query\n",
        "def query_with_cypher(cypher_query):\n",
        "    with driver.session() as session:\n",
        "        result = session.run(cypher_query)\n",
        "        context = \"\\n\".join([f\"{record}\" for record in result])\n",
        "        return context"
      ],
      "metadata": {
        "id": "y2kwkwjR2hnl"
      },
      "execution_count": 17,
      "outputs": []
    },
    {
      "cell_type": "code",
      "source": [
        "def query_with_context_and_generate_response(user_query):\n",
        "    # Convert user query to Cypher\n",
        "    cypher_query = convert_to_cypher(user_query)\n",
        "\n",
        "    # Fetch relevant context using the Cypher query\n",
        "    context = query_with_cypher(cypher_query)\n",
        "\n",
        "    # Form the prompt for GPT-4\n",
        "    prompt = f\"Context:\\n{context}\\n\\nUser Query: {user_query}\\nAnswer:\"\n",
        "\n",
        "    # Generate response from OpenAI GPT\n",
        "    response = openai.ChatCompletion.create(\n",
        "        model=\"gpt-4\",\n",
        "        messages=[{\"role\": \"user\", \"content\": prompt}]\n",
        "    )\n",
        "\n",
        "    return response.choices[0].message['content']"
      ],
      "metadata": {
        "id": "frEMcqOH2kPl"
      },
      "execution_count": 18,
      "outputs": []
    },
    {
      "cell_type": "markdown",
      "source": [
        "###### **Step 4: Run the Demo with a Sample Query**"
      ],
      "metadata": {
        "id": "Jx7osIs53fTJ"
      }
    },
    {
      "cell_type": "code",
      "source": [
        "# Example user query\n",
        "user_query = \"Who acted in The Matrix?\"\n",
        "\n",
        "# Get response from GPT-4 with context from Neo4j\n",
        "response = query_with_context_and_generate_response(user_query)\n",
        "print(\"Response:\", response)"
      ],
      "metadata": {
        "colab": {
          "base_uri": "https://localhost:8080/"
        },
        "id": "7s8qypN-2ouq",
        "outputId": "6f74b0d5-b634-4705-a35d-c626df767f94"
      },
      "execution_count": 27,
      "outputs": [
        {
          "output_type": "stream",
          "name": "stderr",
          "text": [
            "WARNING:neo4j.notifications:Received notification from DBMS server: {severity: WARNING} {code: Neo.ClientNotification.Statement.UnknownLabelWarning} {category: UNRECOGNIZED} {title: The provided label is not in the database.} {description: One of the labels in your query is not available in the database, make sure you didn't misspell it or that the label is available when you run this statement in your application (the missing label name is: Actor)} {position: line: 1, column: 10, offset: 9} for query: \"MATCH (a:Actor)-[:ACTED_IN]->(m:Movie {title:'The Matrix'}) RETURN a.name\"\n"
          ]
        },
        {
          "output_type": "stream",
          "name": "stdout",
          "text": [
            "Response: The main actors in The Matrix are Keanu Reeves, Laurence Fishburne, Carrie-Anne Moss, and Hugo Weaving.\n"
          ]
        }
      ]
    },
    {
      "cell_type": "code",
      "source": [],
      "metadata": {
        "id": "c3hUYmcI2dXm"
      },
      "execution_count": null,
      "outputs": []
    }
  ]
}