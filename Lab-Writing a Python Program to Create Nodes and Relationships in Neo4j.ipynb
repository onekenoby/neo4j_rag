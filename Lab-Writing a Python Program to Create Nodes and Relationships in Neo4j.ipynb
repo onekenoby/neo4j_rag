{
 "cells": [
  {
   "cell_type": "code",
   "execution_count": 1,
   "id": "8e8b12d4-1df8-429f-9115-5d87a2a3cb91",
   "metadata": {},
   "outputs": [
    {
     "name": "stdout",
     "output_type": "stream",
     "text": [
      "Collecting neo4j\n",
      "  Downloading neo4j-5.25.0-py3-none-any.whl.metadata (5.7 kB)\n",
      "Requirement already satisfied: pytz in c:\\users\\nitin\\anaconda3\\lib\\site-packages (from neo4j) (2024.1)\n",
      "Downloading neo4j-5.25.0-py3-none-any.whl (296 kB)\n",
      "   ---------------------------------------- 0.0/296.6 kB ? eta -:--:--\n",
      "   - -------------------------------------- 10.2/296.6 kB ? eta -:--:--\n",
      "   -------- ------------------------------- 61.4/296.6 kB 1.1 MB/s eta 0:00:01\n",
      "   -------------------------------------- - 286.7/296.6 kB 3.5 MB/s eta 0:00:01\n",
      "   ---------------------------------------- 296.6/296.6 kB 3.1 MB/s eta 0:00:00\n",
      "Installing collected packages: neo4j\n",
      "Successfully installed neo4j-5.25.0\n"
     ]
    }
   ],
   "source": [
    "!pip install neo4j"
   ]
  },
  {
   "cell_type": "code",
   "execution_count": 2,
   "id": "6c0f3590-3268-41b0-b957-2a8efd7966fa",
   "metadata": {},
   "outputs": [],
   "source": [
    "from neo4j import GraphDatabase"
   ]
  },
  {
   "cell_type": "code",
   "execution_count": 3,
   "id": "ed0db06f-ad4c-4ba2-b992-b4d045ac5601",
   "metadata": {},
   "outputs": [],
   "source": [
    "# Neo4j connection details\n",
    "uri = \"bolt://localhost:7687\"\n",
    "username = \"neo4j\"\n",
    "password = \"password\""
   ]
  },
  {
   "cell_type": "code",
   "execution_count": 4,
   "id": "cd3d1cee-0e5e-4645-af18-c85c85e71f94",
   "metadata": {},
   "outputs": [],
   "source": [
    "# Create driver instance\n",
    "driver = GraphDatabase.driver(uri, auth=(username, password))"
   ]
  },
  {
   "cell_type": "code",
   "execution_count": 5,
   "id": "54e683ee-f175-4b0d-99c7-3763a6b27278",
   "metadata": {},
   "outputs": [],
   "source": [
    "# Function to create a knowledge graph\n",
    "def create_knowledge_graph(tx):\n",
    "    query = \"\"\"\n",
    "    CREATE (p:Person {name: 'John Doe', age: 35})\n",
    "    CREATE (c:Company {name: 'Tech Corp', industry: 'Software'})\n",
    "    CREATE (p)-[:WORKS_FOR]->(c)\n",
    "    CREATE (p2:Person {name: 'Jane Smith', age: 28})\n",
    "    CREATE (p2)-[:WORKS_FOR]->(c)\n",
    "    CREATE (s:Skill {name: 'Python'})\n",
    "    CREATE (p)-[:HAS_SKILL]->(s)\n",
    "    CREATE (p2)-[:HAS_SKILL]->(s)\n",
    "    CREATE (p3:Person {name: 'Mike Johnson', age: 42})\n",
    "    CREATE (p3)-[:KNOWS]->(p)\n",
    "    RETURN 'Knowledge graph created'\n",
    "    \"\"\"\n",
    "    tx.run(query)"
   ]
  },
  {
   "cell_type": "code",
   "execution_count": 6,
   "id": "8b1a907b-e355-46ff-9696-1a613fc0033d",
   "metadata": {},
   "outputs": [],
   "source": [
    "# Function to retrieve data\n",
    "def retrieve_knowledge_graph(tx):\n",
    "    query = \"\"\"\n",
    "    MATCH (p:Person)-[r:WORKS_FOR]->(c:Company)\n",
    "    RETURN p.name AS person, c.name AS company, p.age AS age\n",
    "    \"\"\"\n",
    "    result = tx.run(query)\n",
    "    return [record for record in result]"
   ]
  },
  {
   "cell_type": "code",
   "execution_count": 7,
   "id": "94bbd3f0-1724-4d0b-88eb-bccfe84071e3",
   "metadata": {},
   "outputs": [
    {
     "name": "stderr",
     "output_type": "stream",
     "text": [
      "C:\\Users\\nitin\\AppData\\Local\\Temp\\ipykernel_1332\\3641910023.py:3: DeprecationWarning: write_transaction has been renamed to execute_write\n",
      "  session.write_transaction(create_knowledge_graph)\n",
      "C:\\Users\\nitin\\AppData\\Local\\Temp\\ipykernel_1332\\3641910023.py:4: DeprecationWarning: read_transaction has been renamed to execute_read\n",
      "  data = session.read_transaction(retrieve_knowledge_graph)\n"
     ]
    }
   ],
   "source": [
    "# Creating and retrieving the graph\n",
    "with driver.session() as session:\n",
    "    session.write_transaction(create_knowledge_graph)\n",
    "    data = session.read_transaction(retrieve_knowledge_graph)"
   ]
  },
  {
   "cell_type": "code",
   "execution_count": 8,
   "id": "c5417b07-3cb9-46d3-a695-2291d3ff929c",
   "metadata": {},
   "outputs": [
    {
     "name": "stdout",
     "output_type": "stream",
     "text": [
      "John Doe (Age: 35) works for Tech Corp\n",
      "Jane Smith (Age: 28) works for Tech Corp\n"
     ]
    }
   ],
   "source": [
    "# Print the retrieved data\n",
    "for record in data:\n",
    "    print(f\"{record['person']} (Age: {record['age']}) works for {record['company']}\")"
   ]
  },
  {
   "cell_type": "code",
   "execution_count": 9,
   "id": "865eb44f-7eb3-4e3d-80ae-7d8808cb9654",
   "metadata": {},
   "outputs": [],
   "source": [
    "# Close the driver connection\n",
    "driver.close()"
   ]
  }
 ],
 "metadata": {
  "kernelspec": {
   "display_name": "Python 3 (ipykernel)",
   "language": "python",
   "name": "python3"
  },
  "language_info": {
   "codemirror_mode": {
    "name": "ipython",
    "version": 3
   },
   "file_extension": ".py",
   "mimetype": "text/x-python",
   "name": "python",
   "nbconvert_exporter": "python",
   "pygments_lexer": "ipython3",
   "version": "3.12.4"
  }
 },
 "nbformat": 4,
 "nbformat_minor": 5
}
